{
 "cells": [
  {
   "cell_type": "markdown",
   "id": "5dfd86b8",
   "metadata": {},
   "source": [
    "# Tutorial on DINCAE\n",
    "\n",
    "This script/notebook reconstructs missing data in satellite data using a neural\n",
    "network architecture called convolutional auto-encoder described in the\n",
    "following articles:\n",
    "\n",
    "* Barth, A., Alvera-Azcárate, A., Licer, M., and Beckers, J.-M.: DINCAE 1.0: a convolutional neural network with error estimates to reconstruct sea surface temperature satellite observations, Geosci. Model Dev., 13, 1609–1622, https://doi.org/10.5194/gmd-13-1609-2020, 2020.\n",
    "* Barth, A., Alvera-Azcárate, A., Troupin, C., and Beckers, J.-M.: DINCAE 2: multivariate convolutional neural network with error estimates to reconstruct sea surface temperature satellite and altimetry observations, Geosci. Model Dev. Discuss. [preprint], https://doi.org/10.5194/gmd-2021-353, in review, 2021.\n",
    "\n",
    "The example here uses MODIS sea surface temperature from the Physical\n",
    "Oceanography Distributed Active Archive Center (PO.DAAC) JPL, NASA.\n",
    "More information is available at https://dx.doi.org/10.5067/MODST-1D4D9\n",
    "\n",
    "This notebook/script is indented to be run on a GPU with CUDA support (NVIDIA GPU)\n",
    "with a least 8 GB of RAM."
   ]
  },
  {
   "cell_type": "markdown",
   "id": "8e680bf5",
   "metadata": {},
   "source": [
    "\n",
    "Load the necessary modules"
   ]
  },
  {
   "cell_type": "code",
   "execution_count": null,
   "id": "469b68c5",
   "metadata": {},
   "outputs": [],
   "source": [
    "using CUDA\n",
    "using DINCAE\n",
    "using DINCAE_utils\n",
    "using Dates\n",
    "using Knet\n",
    "using NCDatasets\n",
    "using PyPlot"
   ]
  },
  {
   "cell_type": "markdown",
   "id": "58cbf3b4",
   "metadata": {},
   "source": [
    "## Data download\n",
    "\n",
    "First we define the domain and time interval.\n",
    "\n",
    "The example is tested here for a short time frame but for realistic\n",
    "applications one should use a much longer time-range (like 10, 20 years or more)"
   ]
  },
  {
   "cell_type": "code",
   "execution_count": null,
   "id": "57456fca",
   "metadata": {
    "lines_to_next_cell": 2
   },
   "outputs": [],
   "source": [
    "# longitude range (east, west)\n",
    "lon_range = [-7, -0.8]\n",
    "# latitude range (south, north)\n",
    "lat_range = [33.8, 38.2]\n",
    "# time range (start, end)\n",
    "time_range = [DateTime(2000,2,25), DateTime(2020,12,31)]\n",
    "#time_range = [DateTime(2000,2,25), DateTime(2000,3,31)]\n",
    "#time_range = [DateTime(2001,1,1), DateTime(2001,12,31)]"
   ]
  },
  {
   "cell_type": "code",
   "execution_count": null,
   "id": "d7fa0470",
   "metadata": {},
   "outputs": [],
   "source": [
    "# local directory\n",
    "localdir = expanduser(\"~/Data/SST-AlboranSea-example\")\n",
    "# create directory\n",
    "mkpath(localdir)\n",
    "# filename of the subset\n",
    "fname_subset = joinpath(localdir,\"modis_subset.nc\")\n",
    "# filename of the clean data\n",
    "fname = joinpath(localdir,\"modis_cleanup.nc\")\n",
    "# filename of the data with added clouds for cross-validation\n",
    "fname_cv = joinpath(localdir,\"modis_cleanup_add_clouds.nc\")\n",
    "varname = \"sst\""
   ]
  },
  {
   "cell_type": "markdown",
   "id": "6693c012",
   "metadata": {},
   "source": [
    "Results of DINCAE will be placed in a sub-directory under `localdir`"
   ]
  },
  {
   "cell_type": "code",
   "execution_count": null,
   "id": "819c2f05",
   "metadata": {},
   "outputs": [],
   "source": [
    "outdir = joinpath(localdir,\"Results\")\n",
    "mkpath(outdir)"
   ]
  },
  {
   "cell_type": "markdown",
   "id": "71c507bb",
   "metadata": {},
   "source": [
    "The variable `url` is the OPeNDAP data URL of the MODIS data. Note the final\n",
    "`#fillmismatch` (look here https://github.com/Unidata/netcdf-c/issues/1299#issuecomment-458312804\n",
    "for `#fillmismatch` the suffix)\n",
    "The downloading can take several minutes."
   ]
  },
  {
   "cell_type": "code",
   "execution_count": null,
   "id": "d44f91a4",
   "metadata": {
    "lines_to_next_cell": 2
   },
   "outputs": [],
   "source": [
    "url = \"https://thredds.jpl.nasa.gov/thredds/dodsC/ncml_aggregation/OceanTemperature/modis/terra/11um/4km/aggregate__MODIS_TERRA_L3_SST_THERMAL_DAILY_4KM_DAYTIME_V2019.0.ncml#fillmismatch\"\n",
    "ds = NCDataset(url)\n",
    "# find indices withing the longitude, latitude and time range\n",
    "i = findall(lon_range[1] .<= ds[\"lon\"][:] .<= lon_range[end]);\n",
    "j = findall(lat_range[1] .<= ds[\"lat\"][:] .<= lat_range[end]);\n",
    "n = findall(time_range[1] .<= ds[\"time\"][:] .<= time_range[end]);\n",
    "# Write subset to disk\n",
    "write(fname_subset,ds,idimensions = Dict(\n",
    "   \"lon\" => i,\n",
    "   \"lat\" => j,\n",
    "   \"time\" => n))\n",
    "close(ds)\n",
    "@info \"NetCDF subset ($(length(n)) slices) written $fname_subset\""
   ]
  },
  {
   "cell_type": "markdown",
   "id": "4fd053f2",
   "metadata": {},
   "source": [
    "## Data preparation\n",
    "\n",
    "Load the NetCDF variable `sst` and `qual_sst`"
   ]
  },
  {
   "cell_type": "code",
   "execution_count": null,
   "id": "208dd596",
   "metadata": {},
   "outputs": [],
   "source": [
    "ds = NCDataset(fname_subset)\n",
    "sst = ds[\"sst\"][:,:,:];\n",
    "qual = ds[\"qual_sst\"][:,:,:];"
   ]
  },
  {
   "cell_type": "markdown",
   "id": "0ce852e0",
   "metadata": {},
   "source": [
    "We ignore all data points with missing quality flags,\n",
    "quality indicator exceeding 3 and temperature\n",
    "larger than 40°C"
   ]
  },
  {
   "cell_type": "code",
   "execution_count": null,
   "id": "bf130289",
   "metadata": {},
   "outputs": [],
   "source": [
    "sst_t = copy(sst)\n",
    "sst_t[(qual .> 3) .& .!ismissing.(qual)] .= missing\n",
    "sst_t[.!ismissing.(sst) .& (sst_t .> 40)] .= missing"
   ]
  },
  {
   "cell_type": "code",
   "execution_count": null,
   "id": "b9012989",
   "metadata": {},
   "outputs": [],
   "source": [
    "@info \"number of missing observations: $(count(ismissing,sst_t))\"\n",
    "@info \"number of valid observations: $(count(.!ismissing,sst_t))\""
   ]
  },
  {
   "cell_type": "markdown",
   "id": "a3d51eee",
   "metadata": {},
   "source": [
    "Clean-up the data to them write to disk"
   ]
  },
  {
   "cell_type": "code",
   "execution_count": null,
   "id": "843abc8f",
   "metadata": {},
   "outputs": [],
   "source": [
    "varname = \"sst\"\n",
    "fname = joinpath(localdir,\"modis_cleanup.nc\")\n",
    "ds2 = NCDataset(fname,\"c\")\n",
    "write(ds2,ds,exclude = [\"sst\",\"qual\"])\n",
    "defVar(ds2,varname,sst_t,(\"lon\",\"lat\",\"time\"))\n",
    "close(ds2)"
   ]
  },
  {
   "cell_type": "markdown",
   "id": "893499d9",
   "metadata": {},
   "source": [
    "Add a land-sea mask to the file grid points with less than 5% of\n",
    "valid data are considerd as land"
   ]
  },
  {
   "cell_type": "code",
   "execution_count": null,
   "id": "27bbfc44",
   "metadata": {},
   "outputs": [],
   "source": [
    "DINCAE_utils.add_mask(fname,varname; minseafrac = 0.05)"
   ]
  },
  {
   "cell_type": "markdown",
   "id": "21cbc36a",
   "metadata": {},
   "source": [
    "Choose cross-validation points by adding clouds to the cleanest\n",
    "images (copied from the cloudiest images). This function will generate\n",
    "a file `fname_cv`."
   ]
  },
  {
   "cell_type": "code",
   "execution_count": null,
   "id": "eed82179",
   "metadata": {},
   "outputs": [],
   "source": [
    "DINCAE_utils.addcvpoint(fname,varname; mincvfrac = 0.10);"
   ]
  },
  {
   "cell_type": "markdown",
   "id": "f2c7d15b",
   "metadata": {},
   "source": [
    "# Reconstruct missing data\n",
    "\n",
    "\n",
    "F is the floating point number type for neural network, here we use\n",
    "single precision"
   ]
  },
  {
   "cell_type": "code",
   "execution_count": null,
   "id": "3f68bc47",
   "metadata": {},
   "outputs": [],
   "source": [
    "const F = Float32"
   ]
  },
  {
   "cell_type": "markdown",
   "id": "341a2fad",
   "metadata": {},
   "source": [
    "Test if CUDA is functional to use the GPU, otherwise the CPU is used."
   ]
  },
  {
   "cell_type": "code",
   "execution_count": null,
   "id": "310bc0e3",
   "metadata": {},
   "outputs": [],
   "source": [
    "if CUDA.functional()\n",
    "    Atype = KnetArray{F}\n",
    "else\n",
    "    @warn \"No supported GPU found. We will use the CPU which is very slow. Please check https://developer.nvidia.com/cuda-gpus\"\n",
    "    Atype = Array{F}\n",
    "end"
   ]
  },
  {
   "cell_type": "code",
   "execution_count": null,
   "id": "94f86a4e",
   "metadata": {},
   "outputs": [],
   "source": [
    "Knet.atype() = Atype"
   ]
  },
  {
   "cell_type": "markdown",
   "id": "06f68237",
   "metadata": {},
   "source": [
    "Setting the paramenters of neural network\n",
    "see document of DINCAE.reconstruct for more information"
   ]
  },
  {
   "cell_type": "code",
   "execution_count": null,
   "id": "3f491b08",
   "metadata": {
    "lines_to_next_cell": 2
   },
   "outputs": [],
   "source": [
    "epochs = 1000\n",
    "batch_size = 32\n",
    "enc_nfilter_internal = round.(Int,32 * 2 .^ (0:4))\n",
    "clip_grad = 5.0\n",
    "regularization_L2_beta = 0\n",
    "ntime_win = 3\n",
    "upsampling_method = :nearest\n",
    "loss_weights_refine = (0.3,0.7)\n",
    "save_epochs = 200:10:epochs"
   ]
  },
  {
   "cell_type": "code",
   "execution_count": null,
   "id": "50ef49b0",
   "metadata": {},
   "outputs": [],
   "source": [
    "data = [\n",
    "   (filename = fname_cv,\n",
    "    varname = varname,\n",
    "    obs_err_std = 1,\n",
    "    jitter_std = 0.05,\n",
    "    isoutput = true,\n",
    "   )\n",
    "]\n",
    "data_test = data;\n",
    "fnames_rec = [joinpath(outdir,\"data-avg.nc\")]\n",
    "data_all = [data,data_test]"
   ]
  },
  {
   "cell_type": "markdown",
   "id": "d2b04a11",
   "metadata": {},
   "source": [
    "epochs = 10\n",
    "save_epochs = epochs:epochs"
   ]
  },
  {
   "cell_type": "markdown",
   "id": "04825210",
   "metadata": {},
   "source": [
    "Start the training and reconstruction of the neural network"
   ]
  },
  {
   "cell_type": "code",
   "execution_count": null,
   "id": "367f266a",
   "metadata": {},
   "outputs": [],
   "source": [
    "loss = DINCAE.reconstruct(\n",
    "    Atype,data_all,fnames_rec;\n",
    "    epochs = epochs,\n",
    "    batch_size = batch_size,\n",
    "    enc_nfilter_internal = enc_nfilter_internal,\n",
    "    clip_grad = clip_grad,\n",
    "    save_epochs = save_epochs,\n",
    "    upsampling_method = upsampling_method,\n",
    "    loss_weights_refine = loss_weights_refine,\n",
    "    ntime_win = ntime_win,\n",
    ")"
   ]
  },
  {
   "cell_type": "markdown",
   "id": "422b4ab5",
   "metadata": {},
   "source": [
    "Plot the loss function"
   ]
  },
  {
   "cell_type": "code",
   "execution_count": null,
   "id": "fe153545",
   "metadata": {},
   "outputs": [],
   "source": [
    "plot(loss)\n",
    "ylim(extrema(loss[2:end]))\n",
    "xlabel(\"epochs\")\n",
    "ylabel(\"loss\");"
   ]
  },
  {
   "cell_type": "markdown",
   "id": "e72fb9e3",
   "metadata": {},
   "source": [
    "# Post process results\n",
    "\n",
    "Compute the RMS with the independent validation data"
   ]
  },
  {
   "cell_type": "code",
   "execution_count": null,
   "id": "7829f64c",
   "metadata": {},
   "outputs": [],
   "source": [
    "case = (\n",
    "    fname_orig = fname,\n",
    "    fname_cv = fname_cv,\n",
    "    varname = varname,\n",
    ")\n",
    "fnameavg = joinpath(outdir,\"data-avg.nc\")\n",
    "cvrms = DINCAE_utils.cvrms(case,fnameavg)\n",
    "@info \"Cross-validation RMS error is: $cvrms\""
   ]
  },
  {
   "cell_type": "markdown",
   "id": "22984260",
   "metadata": {},
   "source": [
    "Next we plot all time instances. The figures with be placed in the\n",
    "directory `figdir`"
   ]
  },
  {
   "cell_type": "code",
   "execution_count": null,
   "id": "93a4b0f6",
   "metadata": {
    "lines_to_next_cell": 2
   },
   "outputs": [],
   "source": [
    "figdir = joinpath(outdir,\"Fig\")\n",
    "DINCAE_utils.plotres(case,fnameavg, clim = nothing, figdir = figdir,\n",
    "                     clim_quantile = (0.01,0.99),\n",
    "                     which_plot = :cv)\n",
    "@info \"Figures are in $(figdir)\""
   ]
  },
  {
   "cell_type": "markdown",
   "id": "cb81c06e",
   "metadata": {},
   "source": [
    "Example reconstruction for the 2001-09-12\n",
    "![reconstruction for the 2001-09-12](Fig/data-avg_2001-09-12.png)\n",
    "Panel (a) is the original data where we have added clouds (panel (b)). The\n",
    "reconstuction based on the data in panel (b) is shown in panel (c) together\n",
    "with its expected standard deviation error (panel (d))."
   ]
  }
 ],
 "metadata": {
  "jupytext": {
   "cell_metadata_filter": "-all"
  },
  "kernelspec": {
   "display_name": "Julia 1.7.2",
   "language": "julia",
   "name": "julia-1.7"
  }
 },
 "nbformat": 4,
 "nbformat_minor": 5
}
