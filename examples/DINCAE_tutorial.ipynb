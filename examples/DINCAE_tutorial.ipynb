{
 "cells": [
  {
   "cell_type": "markdown",
   "id": "bd4a2565",
   "metadata": {},
   "source": [
    "# Tutorial on DINCAE\n",
    "\n",
    "This script/notebook reconstructs missing data in satellite data using a neural\n",
    "network architecture called Convolutional Auto-Encoder described in the\n",
    "following articles:\n",
    "\n",
    "* Barth, A., Alvera-Azcárate, A., Licer, M., and Beckers, J.-M.: DINCAE 1.0: a convolutional neural network with error estimates to reconstruct sea surface temperature satellite observations, Geosci. Model Dev., 13, 1609–1622, https://doi.org/10.5194/gmd-13-1609-2020, 2020.\n",
    "* Barth, A., Alvera-Azcárate, A., Troupin, C., & Beckers, J.-M. (2022). DINCAE 2.0: multivariate convolutional neural network with error estimates to reconstruct sea surface temperature satellite and altimetry observations. Geoscientific Model Development, 15(5), 2183–2196. https://doi.org/10.5194/gmd-15-2183-2022\n",
    "\n",
    "The example here uses MODIS sea surface temperature from the Physical\n",
    "Oceanography Distributed Active Archive Center (PO.DAAC) JPL, NASA.\n",
    "More information is available at https://dx.doi.org/10.5067/MODST-1D4D9\n",
    "\n",
    "This notebook/script is intended to be run on a GPU with CUDA support (NVIDIA GPU)\n",
    "with a least 8 GB of RAM."
   ]
  },
  {
   "cell_type": "markdown",
   "id": "70d80d35",
   "metadata": {},
   "source": [
    "The modules necessary to run the tutorial can be installed with:\n",
    "\n",
    "```julia\n",
    "using Pkg\n",
    "Pkg.activate(\"/file/path/\") # needs to be repeated for every session\n",
    "Pkg.instantiate() # install all package\n",
    "```\n",
    "\n",
    "where `\"/file/path/\"` is the path containing this file and the file `Project.toml`.\n",
    "*Alternatively*, one can also install the modules in the default environment with:\n",
    "\n",
    "```julia\n",
    "using Pkg\n",
    "Pkg.add([\"CUDA\",\"Knet\",\"NCDatasets\",\"PyPlot\"])\n",
    "```\n",
    "\n",
    "See also https://github.com/gher-uliege/DINCAE.jl#installation\n",
    "\n",
    "Load the necessary modules"
   ]
  },
  {
   "cell_type": "code",
   "execution_count": null,
   "id": "880b5acf",
   "metadata": {},
   "outputs": [],
   "source": [
    "using CUDA\n",
    "using DINCAE\n",
    "using DINCAE_utils\n",
    "using Dates\n",
    "using Knet\n",
    "using NCDatasets\n",
    "using PyPlot"
   ]
  },
  {
   "cell_type": "markdown",
   "id": "07a11d23",
   "metadata": {},
   "source": [
    "## Data download\n",
    "\n",
    "First we define the domain and time interval.\n",
    "\n",
    "The example is tested here for a short time frame but for realistic\n",
    "applications one should use a much longer time-range (like 10, 20 years or more)"
   ]
  },
  {
   "cell_type": "code",
   "execution_count": null,
   "id": "886d9820",
   "metadata": {
    "lines_to_next_cell": 2
   },
   "outputs": [],
   "source": [
    "# longitude range (east, west)\n",
    "lon_range = [-7, -0.8]\n",
    "# latitude range (south, north)\n",
    "lat_range = [33.8, 38.2]\n",
    "# time range (start, end)\n",
    "time_range = [DateTime(2000,2,25), DateTime(2020,12,31)]\n",
    "#time_range = [DateTime(2000,2,25), DateTime(2000,3,31)]\n",
    "#time_range = [DateTime(2001,1,1), DateTime(2001,12,31)]"
   ]
  },
  {
   "cell_type": "code",
   "execution_count": null,
   "id": "d2d4c8a1",
   "metadata": {},
   "outputs": [],
   "source": [
    "# local directory\n",
    "localdir = expanduser(\"~/Data/SST-AlboranSea-example\")\n",
    "# create directory\n",
    "mkpath(localdir)\n",
    "# filename of the subset\n",
    "fname_subset = joinpath(localdir,\"modis_subset.nc\")\n",
    "# filename of the clean data\n",
    "fname = joinpath(localdir,\"modis_cleanup.nc\")\n",
    "# filename of the data with added clouds for cross-validation\n",
    "fname_cv = joinpath(localdir,\"modis_cleanup_add_clouds.nc\")\n",
    "varname = \"sst\""
   ]
  },
  {
   "cell_type": "markdown",
   "id": "855b11bc",
   "metadata": {},
   "source": [
    "Results of DINCAE will be placed in a sub-directory under `localdir`"
   ]
  },
  {
   "cell_type": "code",
   "execution_count": null,
   "id": "9be08132",
   "metadata": {},
   "outputs": [],
   "source": [
    "outdir = joinpath(localdir,\"Results\")\n",
    "mkpath(outdir)"
   ]
  },
  {
   "cell_type": "markdown",
   "id": "7d8dece0",
   "metadata": {},
   "source": [
    "The variable `url` is the OPeNDAP data URL of the MODIS data. Note the final\n",
    "`#fillmismatch` (look here https://github.com/Unidata/netcdf-c/issues/1299#issuecomment-458312804\n",
    "for `#fillmismatch` the suffix).\n",
    "The downloading can take several minutes."
   ]
  },
  {
   "cell_type": "markdown",
   "id": "fa9feb2e",
   "metadata": {},
   "source": [
    " `Error { code = 500; message = \"Java heap space\"; }`"
   ]
  },
  {
   "cell_type": "code",
   "execution_count": null,
   "id": "87823ead",
   "metadata": {},
   "outputs": [],
   "source": [
    "if !isfile(fname_subset)\n",
    "    download(\"https://dox.ulg.ac.be/index.php/s/ckHBdhDzAKERwPb/download\",fname_subset)\n",
    "end"
   ]
  },
  {
   "cell_type": "markdown",
   "id": "a7ea1f33",
   "metadata": {},
   "source": [
    "```julia\n",
    "url = \"https://thredds.jpl.nasa.gov/thredds/dodsC/ncml_aggregation/OceanTemperature/modis/terra/11um/4km/aggregate__MODIS_TERRA_L3_SST_THERMAL_DAILY_4KM_DAYTIME_V2019.0.ncml#fillmismatch\"\n",
    "ds = NCDataset(url)\n",
    "# find indices withing the longitude, latitude and time range\n",
    "i = findall(lon_range[1] .<= ds[\"lon\"][:] .<= lon_range[end]);\n",
    "j = findall(lat_range[1] .<= ds[\"lat\"][:] .<= lat_range[end]);\n",
    "n = findall(time_range[1] .<= ds[\"time\"][:] .<= time_range[end]);\n",
    "# Write subset to disk\n",
    "write(fname_subset,ds,idimensions = Dict(\n",
    "   \"lon\" => i,\n",
    "   \"lat\" => j,\n",
    "   \"time\" => n))\n",
    "close(ds)\n",
    "@info \"NetCDF subset ($(length(n)) slices) written $fname_subset\"\n",
    "```"
   ]
  },
  {
   "cell_type": "markdown",
   "id": "52b8ee24",
   "metadata": {},
   "source": [
    "## Data preparation\n",
    "\n",
    "Load the NetCDF variable `sst` and `qual_sst`"
   ]
  },
  {
   "cell_type": "code",
   "execution_count": null,
   "id": "d41bc370",
   "metadata": {},
   "outputs": [],
   "source": [
    "ds = NCDataset(fname_subset)\n",
    "sst = ds[\"sst\"][:,:,:];\n",
    "qual = ds[\"qual_sst\"][:,:,:];"
   ]
  },
  {
   "cell_type": "markdown",
   "id": "95ec8ce1",
   "metadata": {},
   "source": [
    "We ignore all data points with missing quality flags,\n",
    "quality indicator exceeding 3 and temperature\n",
    "higher than 40°C."
   ]
  },
  {
   "cell_type": "code",
   "execution_count": null,
   "id": "a9216a54",
   "metadata": {},
   "outputs": [],
   "source": [
    "sst_t = copy(sst)\n",
    "sst_t[(qual .> 3) .& .!ismissing.(qual)] .= missing\n",
    "sst_t[(sst_t .> 40) .& .!ismissing.(sst_t)] .= missing"
   ]
  },
  {
   "cell_type": "code",
   "execution_count": null,
   "id": "5aa50c0a",
   "metadata": {},
   "outputs": [],
   "source": [
    "@info \"number of missing observations: $(count(ismissing,sst_t))\"\n",
    "@info \"number of valid observations: $(count(.!ismissing,sst_t))\""
   ]
  },
  {
   "cell_type": "markdown",
   "id": "9a4dd6bb",
   "metadata": {},
   "source": [
    "Clean-up the data to write them to disk."
   ]
  },
  {
   "cell_type": "code",
   "execution_count": null,
   "id": "c3242803",
   "metadata": {},
   "outputs": [],
   "source": [
    "varname = \"sst\"\n",
    "fname = joinpath(localdir,\"modis_cleanup.nc\")\n",
    "ds2 = NCDataset(fname,\"c\")\n",
    "write(ds2,ds,exclude = [\"sst\",\"qual\"])\n",
    "defVar(ds2,varname,sst_t,(\"lon\",\"lat\",\"time\"))\n",
    "close(ds2)"
   ]
  },
  {
   "cell_type": "markdown",
   "id": "a2adc7ea",
   "metadata": {},
   "source": [
    "Add a land-sea mask to the file. Grid points with less than 5% of\n",
    "valid data are considered as land."
   ]
  },
  {
   "cell_type": "code",
   "execution_count": null,
   "id": "2b10ac8f",
   "metadata": {},
   "outputs": [],
   "source": [
    "DINCAE_utils.add_mask(fname,varname; minseafrac = 0.05)"
   ]
  },
  {
   "cell_type": "markdown",
   "id": "3a8da550",
   "metadata": {},
   "source": [
    "Choose cross-validation points by adding clouds to the cleanest\n",
    "images (copied from the cloudiest images). This function will generate\n",
    "a file `fname_cv`."
   ]
  },
  {
   "cell_type": "code",
   "execution_count": null,
   "id": "c64ff1ba",
   "metadata": {},
   "outputs": [],
   "source": [
    "DINCAE_utils.addcvpoint(fname,varname; mincvfrac = 0.10);"
   ]
  },
  {
   "cell_type": "markdown",
   "id": "cb11d79b",
   "metadata": {},
   "source": [
    "# Reconstruct missing data\n",
    "\n",
    "\n",
    "F is the floating point number type for the neural network. Here we use\n",
    "single precision."
   ]
  },
  {
   "cell_type": "code",
   "execution_count": null,
   "id": "ff16d519",
   "metadata": {},
   "outputs": [],
   "source": [
    "const F = Float32"
   ]
  },
  {
   "cell_type": "markdown",
   "id": "87135f1f",
   "metadata": {},
   "source": [
    "Test if CUDA is functional to use the GPU, otherwise the CPU is used."
   ]
  },
  {
   "cell_type": "code",
   "execution_count": null,
   "id": "00d00e54",
   "metadata": {},
   "outputs": [],
   "source": [
    "if CUDA.functional()\n",
    "    Atype = KnetArray{F}\n",
    "else\n",
    "    @warn \"No supported GPU found. We will use the CPU which is very slow. Please check https://developer.nvidia.com/cuda-gpus\"\n",
    "    Atype = Array{F}\n",
    "end"
   ]
  },
  {
   "cell_type": "code",
   "execution_count": null,
   "id": "8f334765",
   "metadata": {},
   "outputs": [],
   "source": [
    "Knet.atype() = Atype"
   ]
  },
  {
   "cell_type": "markdown",
   "id": "2aaa3f8f",
   "metadata": {},
   "source": [
    "Setting the parameters of neural network.\n",
    "See the documentation of `DINCAE.reconstruct` for more information."
   ]
  },
  {
   "cell_type": "code",
   "execution_count": null,
   "id": "129482ef",
   "metadata": {
    "lines_to_next_cell": 2
   },
   "outputs": [],
   "source": [
    "epochs = 1000\n",
    "batch_size = 32\n",
    "enc_nfilter_internal = round.(Int,32 * 2 .^ (0:4))\n",
    "clip_grad = 5.0\n",
    "regularization_L2_beta = 0\n",
    "ntime_win = 3\n",
    "upsampling_method = :nearest\n",
    "loss_weights_refine = (0.3,0.7)\n",
    "save_epochs = 200:10:epochs"
   ]
  },
  {
   "cell_type": "code",
   "execution_count": null,
   "id": "bd9b01d4",
   "metadata": {},
   "outputs": [],
   "source": [
    "data = [\n",
    "   (filename = fname_cv,\n",
    "    varname = varname,\n",
    "    obs_err_std = 1,\n",
    "    jitter_std = 0.05,\n",
    "    isoutput = true,\n",
    "   )\n",
    "]\n",
    "data_test = data;\n",
    "fnames_rec = [joinpath(outdir,\"data-avg.nc\")]\n",
    "data_all = [data,data_test]"
   ]
  },
  {
   "cell_type": "markdown",
   "id": "8c1fb653",
   "metadata": {},
   "source": [
    "Use these parameters for a quick test:"
   ]
  },
  {
   "cell_type": "markdown",
   "id": "372dc148",
   "metadata": {},
   "source": [
    "epochs = 10\n",
    "save_epochs = epochs:epochs"
   ]
  },
  {
   "cell_type": "markdown",
   "id": "40e5c220",
   "metadata": {},
   "source": [
    "Start the training and reconstruction of the neural network."
   ]
  },
  {
   "cell_type": "code",
   "execution_count": null,
   "id": "6d2a1d32",
   "metadata": {},
   "outputs": [],
   "source": [
    "loss = DINCAE.reconstruct(\n",
    "    Atype,data_all,fnames_rec;\n",
    "    epochs = epochs,\n",
    "    batch_size = batch_size,\n",
    "    enc_nfilter_internal = enc_nfilter_internal,\n",
    "    clip_grad = clip_grad,\n",
    "    save_epochs = save_epochs,\n",
    "    upsampling_method = upsampling_method,\n",
    "    loss_weights_refine = loss_weights_refine,\n",
    "    ntime_win = ntime_win,\n",
    ")"
   ]
  },
  {
   "cell_type": "markdown",
   "id": "e5461de8",
   "metadata": {},
   "source": [
    "Plot the loss function"
   ]
  },
  {
   "cell_type": "code",
   "execution_count": null,
   "id": "5d6abe4b",
   "metadata": {},
   "outputs": [],
   "source": [
    "plot(loss)\n",
    "ylim(extrema(loss[2:end]))\n",
    "xlabel(\"epochs\")\n",
    "ylabel(\"loss\");"
   ]
  },
  {
   "cell_type": "markdown",
   "id": "f5b2d718",
   "metadata": {},
   "source": [
    "# Post process results\n",
    "\n",
    "Compute the RMS (Root Mean Squared error) with the independent validation data"
   ]
  },
  {
   "cell_type": "code",
   "execution_count": null,
   "id": "08ff48db",
   "metadata": {},
   "outputs": [],
   "source": [
    "case = (\n",
    "    fname_orig = fname,\n",
    "    fname_cv = fname_cv,\n",
    "    varname = varname,\n",
    ")\n",
    "fnameavg = joinpath(outdir,\"data-avg.nc\")\n",
    "cvrms = DINCAE_utils.cvrms(case,fnameavg)\n",
    "@info \"Cross-validation RMS error is: $cvrms\""
   ]
  },
  {
   "cell_type": "markdown",
   "id": "f2c95aef",
   "metadata": {},
   "source": [
    "Next we plot all time instances. The figures will be placed in the\n",
    "directory `figdir`"
   ]
  },
  {
   "cell_type": "code",
   "execution_count": null,
   "id": "2ea371b4",
   "metadata": {
    "lines_to_next_cell": 2
   },
   "outputs": [],
   "source": [
    "figdir = joinpath(outdir,\"Fig\")\n",
    "DINCAE_utils.plotres(case,fnameavg, clim = nothing, figdir = figdir,\n",
    "                     clim_quantile = (0.01,0.99),\n",
    "                     which_plot = :cv)\n",
    "@info \"Figures are in $(figdir)\""
   ]
  },
  {
   "cell_type": "markdown",
   "id": "8f957ff9",
   "metadata": {
    "lines_to_next_cell": 2
   },
   "source": [
    "Example reconstruction for 2001-09-12\n",
    "![reconstruction for the 2001-09-12](Fig/data-avg_2001-09-12.png)\n",
    "Panel (a) is the original data where we have added clouds (panel (b)). The\n",
    "reconstuction based on the data in panel (b) is shown in panel (c) together\n",
    "with its expected standard deviation error (panel (d))."
   ]
  }
 ],
 "metadata": {
  "jupytext": {
   "cell_metadata_filter": "-all"
  },
  "kernelspec": {
   "display_name": "Julia 1.7.2",
   "language": "julia",
   "name": "julia-1.7"
  }
 },
 "nbformat": 4,
 "nbformat_minor": 5
}
